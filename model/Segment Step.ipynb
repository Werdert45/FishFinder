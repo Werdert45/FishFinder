{
 "cells": [
  {
   "cell_type": "code",
   "execution_count": 1,
   "metadata": {},
   "outputs": [
    {
     "name": "stdout",
     "output_type": "stream",
     "text": [
      "Can work with GPU?: True\n"
     ]
    }
   ],
   "source": [
    "import torch\n",
    "print(f\"Can work with GPU?: {torch.cuda.is_available()}\")\n",
    "import numpy as np\n",
    "import pandas as pd\n",
    "import matplotlib.pyplot as plt\n",
    "import cv2\n",
    "from PIL import Image\n",
    "from IPython.display import clear_output\n",
    "from bs4 import BeautifulSoup\n",
    "from segment_anything import sam_model_registry, SamPredictor"
   ]
  },
  {
   "cell_type": "code",
   "execution_count": 4,
   "metadata": {},
   "outputs": [],
   "source": [
    "from tqdm import tqdm"
   ]
  },
  {
   "cell_type": "code",
   "execution_count": 2,
   "metadata": {},
   "outputs": [
    {
     "data": {
      "text/plain": [
       "'\\n1. Load in the images\\n2. Load in the annotations\\n3. Use this as the prompt for the SAM\\n4. Run SAM with top 3\\n5. Store all 3 masks\\n6. Pick best masks and store\\n\\nDataset -> SAM segmented -> Data augmented (in process of model) -> Model training\\n\\nPipeline:\\nImage upload -> click on point for SAM segmentation -> predict model -> return probabilities\\n'"
      ]
     },
     "execution_count": 2,
     "metadata": {},
     "output_type": "execute_result"
    }
   ],
   "source": [
    "\"\"\"\n",
    "1. Load in the images\n",
    "2. Load in the annotations\n",
    "3. Use this as the prompt for the SAM\n",
    "4. Run SAM with top 3\n",
    "5. Store all 3 masks\n",
    "6. Pick best masks and store\n",
    "\n",
    "Dataset -> SAM segmented -> Data augmented (in process of model) -> Model training\n",
    "\n",
    "Pipeline:\n",
    "Image upload -> click on point for SAM segmentation -> predict model -> return probabilities\n",
    "\"\"\""
   ]
  },
  {
   "cell_type": "markdown",
   "metadata": {},
   "source": [
    "### Load in Annotations"
   ]
  },
  {
   "cell_type": "markdown",
   "metadata": {},
   "source": [
    "### Helper Functions"
   ]
  },
  {
   "cell_type": "code",
   "execution_count": 5,
   "metadata": {},
   "outputs": [],
   "source": [
    "def get_image_data(species, image):\n",
    "    file_path = f\"dataset/dataset_new/{species}/{image['name']}\"\n",
    "    x,y = image.select(\"points\")[0]['points'].split(\",\")\n",
    "    x,y = int(float(x)), int(float(y))\n",
    "    return file_path, x,y\n",
    "\n",
    "def show_mask(mask, ax):\n",
    "    color = np.array([30/255, 144/255, 255/255, 0.6])\n",
    "    h, w = mask.shape[-2:]\n",
    "    mask_image = mask.reshape(h, w, 1) * color.reshape(1, 1, -1)\n",
    "    ax.imshow(mask_image)\n",
    "    \n",
    "def show_points(coords, labels, ax, marker_size=375):\n",
    "    pos_points = coords[labels==1]\n",
    "    neg_points = coords[labels==0]\n",
    "    ax.scatter(pos_points[:, 0], pos_points[:, 1], color='green', marker='*', s=marker_size, edgecolor='white', linewidth=1.25)\n",
    "    ax.scatter(neg_points[:, 0], neg_points[:, 1], color='red', marker='*', s=marker_size, edgecolor='white', linewidth=1.25)   \n",
    "    \n",
    "def show_box(box, ax):\n",
    "    x0, y0 = box[0], box[1]\n",
    "    w, h = box[2] - box[0], box[3] - box[1]\n",
    "    ax.add_patch(plt.Rectangle((x0, y0), w, h, edgecolor='green', facecolor=(0,0,0,0), lw=2))  "
   ]
  },
  {
   "cell_type": "code",
   "execution_count": 6,
   "metadata": {},
   "outputs": [
    {
     "name": "stdout",
     "output_type": "stream",
     "text": [
      "1.13.1+cu117 11.7 8500\n"
     ]
    }
   ],
   "source": [
    "device = 'cuda'\n",
    "print(torch.__version__, torch.version.cuda, torch.backends.cudnn.version())"
   ]
  },
  {
   "cell_type": "markdown",
   "metadata": {},
   "source": [
    "### Setup SAM"
   ]
  },
  {
   "cell_type": "code",
   "execution_count": 7,
   "metadata": {},
   "outputs": [],
   "source": [
    "sam = sam_model_registry[\"default\"](checkpoint=\"./sam_vit_h_4b8939.pth\")"
   ]
  },
  {
   "cell_type": "code",
   "execution_count": 8,
   "metadata": {},
   "outputs": [],
   "source": [
    "sam.to(device='cuda');"
   ]
  },
  {
   "cell_type": "code",
   "execution_count": 9,
   "metadata": {},
   "outputs": [],
   "source": [
    "predictor = SamPredictor(sam)"
   ]
  },
  {
   "cell_type": "markdown",
   "metadata": {},
   "source": [
    "# Pipeline\n",
    "- Load in image with annotation\n",
    "- Load into SAM\n",
    "- Use annotation for SAM prompt\n",
    "- Return mask\n",
    "- Combine mask with image for new image\n",
    "- Store this image"
   ]
  },
  {
   "cell_type": "code",
   "execution_count": 11,
   "metadata": {},
   "outputs": [],
   "source": [
    "def get_image_data(species, image):\n",
    "    file_path = f\"dataset/dataset_new/{species}/{image['name']}\"\n",
    "    x,y = image.select(\"points\")[0]['points'].split(\",\")\n",
    "    x,y = int(float(x)), int(float(y))\n",
    "    return file_path, x,y"
   ]
  },
  {
   "cell_type": "code",
   "execution_count": 96,
   "metadata": {},
   "outputs": [],
   "source": []
  },
  {
   "cell_type": "code",
   "execution_count": 21,
   "metadata": {},
   "outputs": [
    {
     "name": "stderr",
     "output_type": "stream",
     "text": [
      "100%|██████████| 49/49 [01:01<00:00,  1.25s/it]\n"
     ]
    }
   ],
   "source": [
    "done = [\"aal\", 'alver', 'amerikaanse_hondsvis', 'atlantische_steur', 'barbeel', 'beekforel', 'bermpje', 'bittervoorn', 'blankvoorn', \n",
    "        'blauwneus', 'bot', 'brasem', 'bronforel',\n",
    "        'diklipharder', 'donaubrasem', 'driedoornige_stekelbaars', 'dunlipharder', 'elrits', 'europese_meerval', 'fint',\n",
    "                'gestippelde_alver', 'giebel', 'goudharder', 'goudvis', 'graskarper', 'grootkopkarper', 'grote_marene', 'gup',\n",
    "        'karper', 'kesslers_grondel', 'kolblei', 'kopvoorn', 'kroeskarper', 'kwabaal', 'marmergrondel', 'pontische_stroomgrondel', 'pos'\n",
    "       ]\n",
    "\n",
    "# blauwband not included\n",
    "species_list = ['regenboogforel', 'rietvoorn', 'rivierdonderpad', 'riviergrondel', 'roofblei', 'serpeling', 'siberische_steur', 'sneep',\n",
    "                'snoekbaars', 'spiering', 'sterlet', 'tiendoornige_stekelbaars', 'vetje', 'wijting', 'winde', 'zalm', 'zeeforel', 'zeelt',\n",
    "                'zilverkarper', 'zonnebaars', 'zwarte_dwergmeerval', 'zwarte_grondel'\n",
    "               ]\n",
    "err = 0\n",
    "for species in species_list:\n",
    "    with open(f'{species}.xml', 'r') as f:\n",
    "        data = f.read()\n",
    "\n",
    "    soup = BeautifulSoup(data, \"xml\")\n",
    "\n",
    "    images = soup.select(\"image\")\n",
    "\n",
    "    output_path = f\"sam_dataset/images/{species}\"\n",
    "    for elem in tqdm(images):\n",
    "        file_path, x,y = get_image_data(species, elem)\n",
    "        print(file_path)\n",
    "        image = cv2.imread(file_path)\n",
    "        try:\n",
    "            image = cv2.cvtColor(image, cv2.COLOR_BGR2RGB)\n",
    "        except:\n",
    "            err += 1\n",
    "            continue\n",
    "        predictor.set_image(image)\n",
    "\n",
    "        input_point = np.array([[x,y]])\n",
    "        input_label = np.array([1])\n",
    "\n",
    "        masks, scores, logits = predictor.predict(\n",
    "            point_coords=input_point,\n",
    "            point_labels=input_label,\n",
    "            multimask_output=True,\n",
    "        )\n",
    "        correct_mask = 1\n",
    "\n",
    "        y=np.expand_dims(masks[int(correct_mask)],axis=2)\n",
    "        newmask=np.concatenate((y,y,y),axis=2)\n",
    "        cob= image * newmask\n",
    "\n",
    "        im = Image.fromarray(cob)\n",
    "        im.save(f\"{output_path}/sam_{elem['name']}\")\n",
    "        clear_output(wait=True)\n",
    "    \n",
    "    "
   ]
  },
  {
   "cell_type": "code",
   "execution_count": 23,
   "metadata": {},
   "outputs": [
    {
     "data": {
      "text/plain": [
       "0"
      ]
     },
     "execution_count": 23,
     "metadata": {},
     "output_type": "execute_result"
    }
   ],
   "source": [
    "err"
   ]
  },
  {
   "cell_type": "code",
   "execution_count": null,
   "metadata": {},
   "outputs": [],
   "source": []
  }
 ],
 "metadata": {
  "kernelspec": {
   "display_name": "Python 3",
   "language": "python",
   "name": "python3"
  },
  "language_info": {
   "codemirror_mode": {
    "name": "ipython",
    "version": 3
   },
   "file_extension": ".py",
   "mimetype": "text/x-python",
   "name": "python",
   "nbconvert_exporter": "python",
   "pygments_lexer": "ipython3",
   "version": "3.7.5"
  }
 },
 "nbformat": 4,
 "nbformat_minor": 4
}
